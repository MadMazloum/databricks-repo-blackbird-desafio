{
 "cells": [
  {
   "cell_type": "markdown",
   "metadata": {
    "application/vnd.databricks.v1+cell": {
     "cellMetadata": {
      "byteLimit": 2048000,
      "rowLimit": 10000
     },
     "inputWidgets": {},
     "nuid": "3788c409-00de-4ec9-b99a-65a63832c2de",
     "showTitle": false,
     "tableResultSettingsMap": {},
     "title": ""
    }
   },
   "source": [
    "# Desafio: Prever ferimentos em acidente de carro"
   ]
  },
  {
   "cell_type": "markdown",
   "metadata": {
    "application/vnd.databricks.v1+cell": {
     "cellMetadata": {
      "byteLimit": 2048000,
      "rowLimit": 10000
     },
     "inputWidgets": {},
     "nuid": "0b8dd272-5655-4b96-83e7-876130550a4a",
     "showTitle": false,
     "tableResultSettingsMap": {},
     "title": ""
    }
   },
   "source": [
    "#### Blibliotecas utilizadas ↓"
   ]
  },
  {
   "cell_type": "code",
   "execution_count": 0,
   "metadata": {
    "application/vnd.databricks.v1+cell": {
     "cellMetadata": {
      "byteLimit": 2048000,
      "rowLimit": 10000
     },
     "collapsed": true,
     "inputWidgets": {},
     "nuid": "06dd6329-0adb-4939-824b-d4abba5fb22f",
     "showTitle": false,
     "tableResultSettingsMap": {},
     "title": ""
    }
   },
   "outputs": [],
   "source": [
    "%pip install xlrd>=2.0.1\n",
    "%pip install openpyxl\n",
    "%restart_python"
   ]
  },
  {
   "cell_type": "code",
   "execution_count": 0,
   "metadata": {
    "application/vnd.databricks.v1+cell": {
     "cellMetadata": {
      "byteLimit": 2048000,
      "rowLimit": 10000
     },
     "inputWidgets": {},
     "nuid": "967e7d41-7f5b-4450-b2ac-a4a7dad89854",
     "showTitle": false,
     "tableResultSettingsMap": {},
     "title": ""
    }
   },
   "outputs": [],
   "source": [
    "\n",
    "import pandas as pd, numpy as np, matplotlib.pyplot as plt, seaborn as sns, sklearn as sklearn, statistics as st\n",
    "from sklearn.model_selection import train_test_split\n",
    "from sklearn.preprocessing import StandardScaler, OneHotEncoder\n",
    "from sklearn.compose import ColumnTransformer\n",
    "from sklearn.pipeline import Pipeline\n",
    "from sklearn.impute import SimpleImputer\n",
    "from sklearn.linear_model import LinearRegression, LogisticRegression\n",
    "from sklearn.ensemble import RandomForestClassifier\n",
    "from sklearn.metrics import accuracy_score, precision_score, recall_score, f1_score, roc_auc_score, confusion_matrix, RocCurveDisplay\n",
    "from pathlib import Path\n"
   ]
  },
  {
   "cell_type": "markdown",
   "metadata": {
    "application/vnd.databricks.v1+cell": {
     "cellMetadata": {
      "byteLimit": 2048000,
      "rowLimit": 10000
     },
     "inputWidgets": {},
     "nuid": "f6f052e1-2163-48e2-82d9-9f4d4aac6013",
     "showTitle": false,
     "tableResultSettingsMap": {},
     "title": ""
    }
   },
   "source": [
    "####Importação da planilhas para analise ↓"
   ]
  },
  {
   "cell_type": "code",
   "execution_count": 0,
   "metadata": {
    "application/vnd.databricks.v1+cell": {
     "cellMetadata": {
      "byteLimit": 2048000,
      "rowLimit": 10000
     },
     "inputWidgets": {},
     "nuid": "346f0a05-a04e-486e-bb0e-c3f31adc130e",
     "showTitle": false,
     "tableResultSettingsMap": {},
     "title": ""
    }
   },
   "outputs": [],
   "source": [
    "\n",
    "data_path = Path(\"/Workspace/Users/ahmad.jmazloum@gmail.com/Data__1_.xlsx\")\n",
    "df = pd.read_excel(data_path)\n",
    "df.columns = (df.columns.str.strip().str.replace(\"\\n\",\" \",regex=False).str.replace(r\"[^0-9a-zA-Z]+\",\"_\",regex=True).str.strip(\"_\"))\n",
    "df.head(3)\n"
   ]
  },
  {
   "cell_type": "code",
   "execution_count": 0,
   "metadata": {
    "application/vnd.databricks.v1+cell": {
     "cellMetadata": {
      "byteLimit": 2048000,
      "rowLimit": 10000
     },
     "inputWidgets": {},
     "nuid": "9ed69541-974b-48bf-9422-bcc3a35baa45",
     "showTitle": false,
     "tableResultSettingsMap": {},
     "title": ""
    }
   },
   "outputs": [],
   "source": [
    "\n",
    "target_col = [c for c in df.columns if \"injur\" in c.lower()][0]\n",
    "y_raw = pd.to_numeric(df[target_col], errors=\"coerce\")\n",
    "vals = set(pd.Series(y_raw.dropna().unique()).tolist())\n",
    "if {1,2}.issubset(vals) or vals == {1,2}:\n",
    "    y = (y_raw == 1).astype(int)\n",
    "elif vals.issubset({0,1}):\n",
    "    y = y_raw.astype(int)\n",
    "else:\n",
    "    y = (y_raw > 0).astype(int)\n",
    "X = df.drop(columns=[target_col])\n",
    "X.head()\n"
   ]
  },
  {
   "cell_type": "code",
   "execution_count": 0,
   "metadata": {
    "application/vnd.databricks.v1+cell": {
     "cellMetadata": {
      "byteLimit": 2048000,
      "rowLimit": 10000
     },
     "inputWidgets": {},
     "nuid": "ce0751c5-b429-450f-b5ed-362b0819b0c6",
     "showTitle": false,
     "tableResultSettingsMap": {},
     "title": ""
    }
   },
   "outputs": [],
   "source": [
    "\n",
    "expected_cols = [\"Rush_Hour\",\"Alcohol_Involved\",\"Work_Zone\",\"Align\",\"Weekday\",\n",
    "                 \"Accident_at_Intersection\",\"Accident_at_Roadway\",\"Speed_Limit\",\n",
    "                 \"Number_of_Vehical_Involved\",\"Number_of_Vehicle_Involved\",\"Weather\"]\n",
    "feature_cols = [c for c in expected_cols if c in X.columns]\n",
    "if \"Number_of_Vehical_Involved\" in feature_cols and \"Number_of_Vehicle_Involved\" in feature_cols:\n",
    "    X[\"Number_of_Vehicle_Involved\"] = X[\"Number_of_Vehicle_Involved\"].fillna(X[\"Number_of_Vehical_Involved\"])\n",
    "    feature_cols.remove(\"Number_of_Vehical_Involved\")\n",
    "if not feature_cols:\n",
    "    feature_cols = X.columns.tolist()\n",
    "X = X[feature_cols]\n",
    "num_features = X.select_dtypes(include=[np.number]).columns.tolist()\n",
    "cat_features = [c for c in X.columns if c not in num_features]\n",
    "num_features, cat_features\n"
   ]
  },
  {
   "cell_type": "code",
   "execution_count": 0,
   "metadata": {
    "application/vnd.databricks.v1+cell": {
     "cellMetadata": {
      "byteLimit": 2048000,
      "rowLimit": 10000
     },
     "inputWidgets": {},
     "nuid": "900be0a1-f5ce-4ea1-b09a-c2716b6c8398",
     "showTitle": false,
     "tableResultSettingsMap": {},
     "title": ""
    }
   },
   "outputs": [],
   "source": [
    "\n",
    "numeric_pre = Pipeline([(\"imputer\", SimpleImputer(strategy=\"median\")), (\"scaler\", StandardScaler())])\n",
    "categorical_pre = Pipeline([(\"imputer\", SimpleImputer(strategy=\"most_frequent\")), (\"ohe\", OneHotEncoder(handle_unknown=\"ignore\"))])\n",
    "pre_glm = ColumnTransformer([(\"num\", numeric_pre, num_features), (\"cat\", categorical_pre, cat_features)])\n",
    "pre_tree = ColumnTransformer([(\"num\", SimpleImputer(strategy=\"median\"), num_features), (\"cat\", OneHotEncoder(handle_unknown=\"ignore\"), cat_features)])\n",
    "X_train, X_test, y_train, y_test = train_test_split(X, y, test_size=0.2, random_state=42, stratify=y)\n"
   ]
  },
  {
   "cell_type": "code",
   "execution_count": 0,
   "metadata": {
    "application/vnd.databricks.v1+cell": {
     "cellMetadata": {
      "byteLimit": 2048000,
      "rowLimit": 10000
     },
     "inputWidgets": {},
     "nuid": "14240f2f-6265-4808-91d2-4c7e35fb5c48",
     "showTitle": false,
     "tableResultSettingsMap": {},
     "title": ""
    }
   },
   "outputs": [],
   "source": [
    "\n",
    "linreg = Pipeline([(\"prep\", pre_glm), (\"model\", LinearRegression())]).fit(X_train, y_train)\n",
    "logreg = Pipeline([(\"prep\", pre_glm), (\"model\", LogisticRegression(max_iter=300, class_weight=\"balanced\"))]).fit(X_train, y_train)\n",
    "rf = Pipeline([(\"prep\", pre_tree), (\"model\", RandomForestClassifier(n_estimators=300, random_state=42, class_weight=\"balanced_subsample\"))]).fit(X_train, y_train)\n",
    "\n",
    "lin_score = linreg.predict(X_test); lin_pred = (lin_score >= 0.5).astype(int)\n",
    "log_proba = logreg.predict_proba(X_test)[:,1]; log_pred = (log_proba >= 0.5).astype(int)\n",
    "rf_proba  = rf.predict_proba(X_test)[:,1]; rf_pred  = (rf_proba  >= 0.5).astype(int)\n",
    "\n",
    "import pandas as pd\n",
    "def metrics_row(name, y_true, y_pred, y_score):\n",
    "    from sklearn.metrics import accuracy_score, precision_score, recall_score, f1_score, roc_auc_score\n",
    "    return dict(model=name,\n",
    "                accuracy=accuracy_score(y_true, y_pred),\n",
    "                precision=precision_score(y_true, y_pred, zero_division=0),\n",
    "                recall=recall_score(y_true, y_pred),\n",
    "                f1=f1_score(y_true, y_pred),\n",
    "                roc_auc=roc_auc_score(y_true, y_score))\n",
    "results_df = pd.DataFrame([\n",
    "    metrics_row(\"LinearRegression\", y_test, lin_pred, lin_score),\n",
    "    metrics_row(\"LogisticRegression\", y_test, log_pred, log_proba),\n",
    "    metrics_row(\"RandomForest\", y_test, rf_pred, rf_proba),\n",
    "])\n",
    "results_df\n"
   ]
  },
  {
   "cell_type": "markdown",
   "metadata": {
    "application/vnd.databricks.v1+cell": {
     "cellMetadata": {
      "byteLimit": 2048000,
      "rowLimit": 10000
     },
     "inputWidgets": {},
     "nuid": "6f688391-afd2-4346-bf25-0fb04319f22a",
     "showTitle": false,
     "tableResultSettingsMap": {},
     "title": ""
    }
   },
   "source": [
    "####Matriz de confusão e ROC - Regreção Linear ↓\n",
    "• A baixo linha de códigos referente ao teste de regrassão linerar em formato de ROC e Matriz\n",
    "\n",
    "• Foi observado que tem um aumento em 4 setores de acidentes, onde um deles consta a utilizadação de alcool e alta velocidade, podendo ser os dois simultaneamente "
   ]
  },
  {
   "cell_type": "code",
   "execution_count": 0,
   "metadata": {
    "application/vnd.databricks.v1+cell": {
     "cellMetadata": {
      "byteLimit": 2048000,
      "rowLimit": 10000
     },
     "inputWidgets": {},
     "nuid": "ae3d28c2-4eef-4b0c-84e6-f512dafdd805",
     "showTitle": false,
     "tableResultSettingsMap": {},
     "title": ""
    }
   },
   "outputs": [],
   "source": [
    "def plot_conf(y_true, y_pred, title):\n",
    "    cm = confusion_matrix(y_true, y_pred); fig, ax = plt.subplots()\n",
    "    ax.imshow(cm); ax.set_title(title); ax.set_xlabel(\"Injury\"); ax.set_ylabel(\"Real\")\n",
    "    for (i,j),v in np.ndenumerate(cm): ax.text(j,i,str(v),ha=\"center\",va=\"center\")\n",
    "    plt.show()\n",
    "\n",
    "def plot_roc(y_true, y_score, title):\n",
    "    fig, ax = plt.subplots()\n",
    "    RocCurveDisplay.from_predictions(y_true, y_score, ax=ax); ax.set_title(title); plt.show()\n",
    "\n",
    "plot_conf(y_test, lin_pred, \"Matriz de confusão - Linear Regression\"); plot_roc(y_test, lin_score, \"ROC - Linear Regression\")\n",
    "plot_conf(y_test, log_pred, \"Matriz de confusão - Logistic Regression\"); plot_roc(y_test, log_proba, \"ROC - Logistic Regression\")"
   ]
  }
 ],
 "metadata": {
  "application/vnd.databricks.v1+notebook": {
   "computePreferences": null,
   "dashboards": [],
   "environmentMetadata": null,
   "inputWidgetPreferences": null,
   "language": "python",
   "notebookMetadata": {
    "pythonIndentUnit": 4
   },
   "notebookName": "desafio_blackbird",
   "widgets": {}
  },
  "language_info": {
   "name": "python"
  }
 },
 "nbformat": 4,
 "nbformat_minor": 0
}
