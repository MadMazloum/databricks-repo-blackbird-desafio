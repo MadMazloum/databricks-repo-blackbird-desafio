{
 "cells": [
  {
   "cell_type": "code",
   "execution_count": 0,
   "metadata": {
    "application/vnd.databricks.v1+cell": {
     "cellMetadata": {
      "byteLimit": 2048000,
      "rowLimit": 10000
     },
     "inputWidgets": {},
     "nuid": "a7397432-c0cf-4a5b-909d-a8704c4227fb",
     "showTitle": false,
     "tableResultSettingsMap": {},
     "title": ""
    }
   },
   "outputs": [],
   "source": [
    "%pip install xlrd>=2.0.1\n",
    "%pip install openpyxl\n",
    "%restart_python"
   ]
  },
  {
   "cell_type": "code",
   "execution_count": 0,
   "metadata": {
    "application/vnd.databricks.v1+cell": {
     "cellMetadata": {
      "byteLimit": 2048000,
      "rowLimit": 10000
     },
     "inputWidgets": {},
     "nuid": "a721c5a3-6af8-4116-a147-1f417707db1f",
     "showTitle": false,
     "tableResultSettingsMap": {},
     "title": ""
    }
   },
   "outputs": [],
   "source": [
    "import pandas as pd\n",
    "import numpy as np\n",
    "import matplotlib.pyplot as plt\n",
    "import seaborn as sns\n",
    "import sklearn as sklearn\n",
    "import statistics as st\n",
    "from sklearn.model_selection import train_test_split as tts\n",
    "from sklearn.linear_model import LogisticRegression as lr\n",
    "from sklearn.ensemble import RandomForestClassifier as rfc\n",
    "from sklearn.metrics import accuracy_score as acs\n",
    "from sklearn.metrics import precision_score as ps\n",
    "from sklearn.metrics import recall_score as rs\n",
    "from sklearn.metrics import f1_score as fs\n",
    "from sklearn.metrics import confusion_matrix as cm\n",
    "from sklearn.metrics import classification_report as cr\n",
    "\n",
    "#df = data frame\n",
    "# variavel \"dados\" = local do arquivo xlsx\n",
    "dados = \"/Workspace/Users/ahmad.jmazloum@gmail.com/Data__1_.xlsx\"\n",
    "\n",
    "df = pd.read_excel(dados, sheet_name=\"Data\")\n",
    "print (\"Formato (linhas, colunas):\", df.shape)\n",
    "#dtypes = df.dtypes (função para ver o tipo de dados )\n",
    "print(\"\\nTipos de dados:\")\n",
    "print(df.dtypes)\n",
    "# Visualizando os primeiros registros\n",
    "df.head()\n",
    "\n",
    "df[\"Injury\"] = df[\"Injury\"].replace({1: 1, 2: 0})\n",
    "df[\"Align\"] = df[\"Align\"].replace({1: 1, 2: 0})\n",
    "df[\"Weather\"] = df[\"Weather\"].replace({\"Yes\": 1, \"No\": 0})\n",
    "\n",
    "df.head()\n",
    "\n",
    "print(df.isnull().sum())\n",
    "\n",
    "print(\"\\nContagem de Injury:\")\n",
    "print(df[\"Injury\"].value_counts())\n",
    "\n",
    "mediana = st.median(df[\"Number of Vehical Involved\"])\n",
    "mediana = df[\"Number of Vehical Involved\"].median()\n",
    "print(mediana)\n",
    "\n",
    "media = st.mean(df[\"Number of Vehical Involved\"])\n",
    "media = df[\"Number of Vehical Involved\"].mean()\n",
    "print(media)\n",
    "df.head(4)"
   ]
  }
 ],
 "metadata": {
  "application/vnd.databricks.v1+notebook": {
   "computePreferences": null,
   "dashboards": [],
   "environmentMetadata": {
    "base_environment": "",
    "environment_version": "4"
   },
   "inputWidgetPreferences": null,
   "language": "python",
   "notebookMetadata": {
    "pythonIndentUnit": 4
   },
   "notebookName": "Junção dos códigos",
   "widgets": {}
  },
  "language_info": {
   "name": "python"
  }
 },
 "nbformat": 4,
 "nbformat_minor": 0
}
