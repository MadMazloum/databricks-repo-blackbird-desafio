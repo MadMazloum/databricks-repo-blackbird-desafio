{
 "cells": [
  {
   "cell_type": "markdown",
   "metadata": {
    "application/vnd.databricks.v1+cell": {
     "cellMetadata": {
      "byteLimit": 2048000,
      "rowLimit": 10000
     },
     "inputWidgets": {},
     "nuid": "8b69d931-7c4b-4ea8-930d-d444a4dec6cd",
     "showTitle": false,
     "tableResultSettingsMap": {},
     "title": ""
    }
   },
   "source": [
    "####Instalações necessarias"
   ]
  },
  {
   "cell_type": "code",
   "execution_count": 0,
   "metadata": {
    "application/vnd.databricks.v1+cell": {
     "cellMetadata": {
      "byteLimit": 2048000,
      "rowLimit": 10000
     },
     "collapsed": true,
     "inputWidgets": {},
     "nuid": "6c02cb1f-c82b-4277-9fdc-21741549b069",
     "showTitle": false,
     "tableResultSettingsMap": {},
     "title": ""
    }
   },
   "outputs": [],
   "source": [
    "print (\"Olá, Mundo!\")"
   ]
  },
  {
   "cell_type": "code",
   "execution_count": 0,
   "metadata": {
    "application/vnd.databricks.v1+cell": {
     "cellMetadata": {
      "byteLimit": 2048000,
      "rowLimit": 10000
     },
     "collapsed": true,
     "inputWidgets": {},
     "nuid": "20289f0f-33c5-4501-b11a-5c4cba6e7bb5",
     "showTitle": false,
     "tableResultSettingsMap": {},
     "title": ""
    }
   },
   "outputs": [],
   "source": [
    "%pip install xlrd>=2.0.1\n",
    "%pip install openpyxl\n",
    "%restart_python\n"
   ]
  },
  {
   "cell_type": "markdown",
   "metadata": {
    "application/vnd.databricks.v1+cell": {
     "cellMetadata": {
      "byteLimit": 2048000,
      "rowLimit": 10000
     },
     "inputWidgets": {},
     "nuid": "2a7d5e76-60c7-4d7c-b539-9ffa83454fb0",
     "showTitle": false,
     "tableResultSettingsMap": {},
     "title": ""
    }
   },
   "source": [
    "####Bibliotecas utlizadas"
   ]
  },
  {
   "cell_type": "code",
   "execution_count": 0,
   "metadata": {
    "application/vnd.databricks.v1+cell": {
     "cellMetadata": {
      "byteLimit": 2048000,
      "rowLimit": 10000
     },
     "collapsed": true,
     "inputWidgets": {},
     "nuid": "4555d532-301c-4cde-8969-4a11ac762e1e",
     "showTitle": false,
     "tableResultSettingsMap": {},
     "title": ""
    }
   },
   "outputs": [],
   "source": [
    "import pandas as pd, numpy as np, matplotlib.pyplot as plt, seaborn as sns, sklearn as sklearn, statistics as st\n",
    "from sklearn.model_selection import train_test_split as tts\n",
    "from sklearn.linear_model import LogisticRegression as lr\n",
    "from sklearn.linear_model import LinearRegression as lm\n",
    "from sklearn.ensemble import RandomForestClassifier as rfc\n",
    "from sklearn.ensemble import RandomForestRegressor as rfr\n",
    "from sklearn.metrics import mean_squared_error, r2_score\n",
    "from sklearn.datasets import fetch_california_housing\n",
    "from sklearn.metrics import accuracy_score as acs\n",
    "from sklearn.metrics import precision_score as ps\n",
    "from sklearn.metrics import recall_score as rs\n",
    "from sklearn.metrics import f1_score as fs\n",
    "from sklearn.metrics import confusion_matrix as cm\n",
    "from sklearn.metrics import classification_report as cr"
   ]
  },
  {
   "cell_type": "markdown",
   "metadata": {
    "application/vnd.databricks.v1+cell": {
     "cellMetadata": {
      "byteLimit": 2048000,
      "rowLimit": 10000
     },
     "inputWidgets": {},
     "nuid": "fc6d3e52-b5e2-49fe-9058-1ef9bb13a43f",
     "showTitle": false,
     "tableResultSettingsMap": {},
     "title": ""
    }
   },
   "source": [
    "####Analise Inicial dos dados fornecidos:"
   ]
  },
  {
   "cell_type": "code",
   "execution_count": 0,
   "metadata": {
    "application/vnd.databricks.v1+cell": {
     "cellMetadata": {
      "byteLimit": 2048000,
      "rowLimit": 10000
     },
     "collapsed": true,
     "inputWidgets": {},
     "nuid": "9e5a72ea-768d-4a1e-b53b-2b76c7132725",
     "showTitle": false,
     "tableResultSettingsMap": {},
     "title": ""
    }
   },
   "outputs": [],
   "source": [
    "import pandas as pd\n",
    "\n",
    "#df = data frame\n",
    "# variavel \"dados\" = local do arquivo xlsx\n",
    "dados = \"/Workspace/Users/ahmad.jmazloum@gmail.com/Data__1_.xlsx\"\n",
    "\n",
    "df = pd.read_excel(dados, sheet_name=\"Data\")\n",
    "print (\"Formato (linhas, colunas):\", df.shape)\n",
    "#dtypes = df.dtypes (função para ver o tipo de dados )\n",
    "print(\"\\nTipos de dados:\")\n",
    "print(df.dtypes)\n",
    "# Visualizando os primeiros registros\n",
    "df.head()"
   ]
  },
  {
   "cell_type": "markdown",
   "metadata": {
    "application/vnd.databricks.v1+cell": {
     "cellMetadata": {
      "byteLimit": 2048000,
      "rowLimit": 10000
     },
     "inputWidgets": {},
     "nuid": "d8941ac2-1d42-4014-9260-f00fa54b9e0b",
     "showTitle": false,
     "tableResultSettingsMap": {},
     "title": ""
    }
   },
   "source": [
    "##### Tratando as variaveis ↓\n",
    "\n",
    "Código utilizado ↓\n",
    "\n",
    "df[] = df.[].replace({}) → Utilizado para modificação numérica dos dados, podendo alterar as informações para melhor analise e tratamento dos dados\n",
    "\n",
    "\"Rush Hour\"→1 = horario de pico (6-9h e 16-19h) | 0 = fora do pico\n",
    "\n",
    "\"Alcohol Involved\" →1 = Envolveu álcool | 0 = Não envolveu\n",
    "\n",
    "\"Work Zone\" → 1 = Sim | 0 = Não\n",
    "\n",
    "\"Aling\" → 1 = Reta | 2 = 0 = curva\n",
    "\n",
    "\"Weekday\" → 1 = dia de semana | 0 = fim de semana\n",
    "\n",
    "\"Accident at Intersection → 1 = acidente em cruzamento/interseção | 0 = fora do cruzamento\n",
    "\n",
    "\"Accident at Roadway\" → 1 = acidente na via | 0 = fora da via\n",
    "\n",
    "\"Speed Limit\" → \n",
    "\n",
    "\"Number of Vehicle Involved\" → \n",
    "\n",
    "\"Weather\" →  1 = \"Yes\" = chuva, neve ou outra condição adversa | 0 = \"No\" = sem condições adversas\n",
    "\n",
    "\"Injury\" → 1 = houve ferimento | 0 = 2 = não houve"
   ]
  },
  {
   "cell_type": "code",
   "execution_count": 0,
   "metadata": {
    "application/vnd.databricks.v1+cell": {
     "cellMetadata": {
      "byteLimit": 2048000,
      "rowLimit": 10000
     },
     "collapsed": true,
     "inputWidgets": {},
     "nuid": "ca119e4d-3737-419f-9b00-d899dc3febbd",
     "showTitle": false,
     "tableResultSettingsMap": {},
     "title": ""
    }
   },
   "outputs": [],
   "source": [
    "df[\"Injury\"] = df[\"Injury\"].replace({1: 1, 2: 0})\n",
    "df[\"Align\"] = df[\"Align\"].replace({1: 1, 2: 0})\n",
    "df[\"Weather\"] = df[\"Weather\"].replace({\"Yes\": 1, \"No\": 0})\n",
    "\n",
    "df.head()"
   ]
  },
  {
   "cell_type": "markdown",
   "metadata": {
    "application/vnd.databricks.v1+cell": {
     "cellMetadata": {
      "byteLimit": 2048000,
      "rowLimit": 10000
     },
     "inputWidgets": {},
     "nuid": "6d3af84d-152a-4751-94f4-c60ad8ac98e4",
     "showTitle": false,
     "tableResultSettingsMap": {},
     "title": ""
    }
   },
   "source": [
    "#### Localizar valores ausentes\n",
    "\n",
    "print(df.isnull().sum()) → Utilizado para verificar valores ausentes nos dados, adicionando o \".sum\" no final, ele irar somar cada valor ausente, para imprimir no final a quantidade exata de valores ausentes da tabelas\n",
    "\n",
    "print(df[].value_counts()) → Utilizado para a contagem da frequência de valores únicos em uma coluna especifica dentro do DataFrame do Pandas"
   ]
  },
  {
   "cell_type": "code",
   "execution_count": 0,
   "metadata": {
    "application/vnd.databricks.v1+cell": {
     "cellMetadata": {
      "byteLimit": 2048000,
      "rowLimit": 10000
     },
     "inputWidgets": {},
     "nuid": "8e7907d9-2664-4846-8718-24a0ed0b1584",
     "showTitle": false,
     "tableResultSettingsMap": {},
     "title": ""
    }
   },
   "outputs": [],
   "source": [
    "print(df.isnull().sum())\n",
    "\n",
    "print(\"\\nContagem de Injury:\")\n",
    "print(df[\"Injury\"].value_counts())"
   ]
  },
  {
   "cell_type": "markdown",
   "metadata": {
    "application/vnd.databricks.v1+cell": {
     "cellMetadata": {
      "byteLimit": 2048000,
      "rowLimit": 10000
     },
     "inputWidgets": {},
     "nuid": "acb31d32-729a-4a78-8132-fdf1dcaf42e4",
     "showTitle": false,
     "tableResultSettingsMap": {},
     "title": ""
    }
   },
   "source": [
    "Descobrindo a mediana e a média de \"Number of Vehical Involved\" para alterar possiveis outlier\n"
   ]
  },
  {
   "cell_type": "code",
   "execution_count": 0,
   "metadata": {
    "application/vnd.databricks.v1+cell": {
     "cellMetadata": {
      "byteLimit": 2048000,
      "rowLimit": 10000
     },
     "inputWidgets": {},
     "nuid": "716f2063-41bd-4b36-a958-a59e919f85d4",
     "showTitle": false,
     "tableResultSettingsMap": {},
     "title": ""
    }
   },
   "outputs": [],
   "source": [
    "mediana = st.median(df[\"Number of Vehical Involved\"])\n",
    "print(mediana)\n",
    "\n",
    "media = st.mean(df[\"Number of Vehical Involved\"])\n",
    "print(media)\n",
    "df.head(4)"
   ]
  },
  {
   "cell_type": "markdown",
   "metadata": {
    "application/vnd.databricks.v1+cell": {
     "cellMetadata": {
      "byteLimit": 2048000,
      "rowLimit": 10000
     },
     "inputWidgets": {},
     "nuid": "8a20f963-e1f4-4958-99ae-dc93b22488c9",
     "showTitle": false,
     "tableResultSettingsMap": {},
     "title": ""
    }
   },
   "source": [
    "Após analisar os dados \"Number of Vehical Involved\" opter por excluir o valor maximo, pois interfere diretamente a média dos dados, além de ser um caso exclusivo"
   ]
  },
  {
   "cell_type": "code",
   "execution_count": 0,
   "metadata": {
    "application/vnd.databricks.v1+cell": {
     "cellMetadata": {
      "byteLimit": 2048000,
      "rowLimit": 10000
     },
     "inputWidgets": {},
     "nuid": "18bbee23-898f-4a14-ba86-926110dfb7eb",
     "showTitle": false,
     "tableResultSettingsMap": {},
     "title": ""
    }
   },
   "outputs": [],
   "source": [
    "valor_maximo = df[\"Number of Vehical Involved\"].max()\n",
    "valor_minimo = df[\"Number of Vehical Involved\"].min()\n",
    "print(valor_minimo)\n",
    "print(valor_maximo)\n",
    "\n"
   ]
  },
  {
   "cell_type": "code",
   "execution_count": 0,
   "metadata": {
    "application/vnd.databricks.v1+cell": {
     "cellMetadata": {
      "byteLimit": 2048000,
      "rowLimit": 10000
     },
     "inputWidgets": {},
     "nuid": "29674043-aba6-4013-b198-f94076a7b371",
     "showTitle": false,
     "tableResultSettingsMap": {},
     "title": ""
    }
   },
   "outputs": [],
   "source": [
    "print(df[\"Number of Vehical Involved\"].describe())"
   ]
  },
  {
   "cell_type": "code",
   "execution_count": 0,
   "metadata": {
    "application/vnd.databricks.v1+cell": {
     "cellMetadata": {
      "byteLimit": 2048000,
      "rowLimit": 10000
     },
     "inputWidgets": {},
     "nuid": "a4624165-389b-4a5a-8f53-47df1af01eea",
     "showTitle": false,
     "tableResultSettingsMap": {},
     "title": ""
    }
   },
   "outputs": [],
   "source": [
    "print(valor_maximo)\n",
    "\n",
    "df.drop(df[df[\"Number of Vehical Involved\"] == valor_maximo].index, inplace = True)\n",
    "df.head(4)\n",
    "print(df[\"Number of Vehical Involved\"].describe())"
   ]
  },
  {
   "cell_type": "code",
   "execution_count": 0,
   "metadata": {
    "application/vnd.databricks.v1+cell": {
     "cellMetadata": {
      "byteLimit": 2048000,
      "rowLimit": 10000
     },
     "inputWidgets": {},
     "nuid": "05715d74-e65e-4458-ba5e-3ab0a1f93c48",
     "showTitle": false,
     "tableResultSettingsMap": {},
     "title": ""
    }
   },
   "outputs": [],
   "source": [
    "# Módulo de tratamento de outliers\n",
    "class TrataOutlier:\n",
    "\n",
    "    def __init__(self, df: pd.DataFrame) -> None:\n",
    "        self.df = df\n",
    "\n",
    "    def count_outliers(self, Q1, Q3, IQR, columns):\n",
    "        cut_off = IQR * 1.5\n",
    "        temp_df = (self.df[columns] < (Q1 - cut_off)) | (self.df[columns] > (Q3 + cut_off))\n",
    "        return [len(temp_df[temp_df[col] == True]) for col in temp_df]\n",
    "\n",
    "    def calc_skew(self, columns=None):\n",
    "        if columns == None:\n",
    "            columns = self.df.columns\n",
    "        return [self.df[col].skew() for col in columns]\n",
    "\n",
    "    def percentage(self, list):\n",
    "        return [str(round(((value/150001) * 100), 2)) + '%' for value in list]\n",
    "\n",
    "    def remove_outliers(self, columns):\n",
    "        for col in columns:\n",
    "            Q1, Q3 = self.df[col].quantile(0.25), self.df[col].quantile(0.75)\n",
    "            IQR = Q3 - Q1\n",
    "            cut_off = IQR * 1.5\n",
    "            lower, upper = Q1 - cut_off, Q3 + cut_off\n",
    "            self.df = self.df.drop(self.df[self.df[col] > upper].index)\n",
    "            self.df = self.df.drop(self.df[self.df[col] < lower].index)\n",
    "\n",
    "    def replace_outliers_with_fences(self, columns):\n",
    "        for col in columns:\n",
    "            Q1, Q3 = self.df[col].quantile(0.25), self.df[col].quantile(0.75)\n",
    "            IQR = Q3 - Q1\n",
    "            cut_off = IQR * 1.5\n",
    "            lower, upper = Q1 - cut_off, Q3 + cut_off\n",
    "\n",
    "            self.df[col] = np.where(self.df[col] > upper, upper, self.df[col])\n",
    "            self.df[col] = np.where(self.df[col] < lower, lower, self.df[col])\n",
    "\n",
    "    def getOverview(self, columns) -> None:\n",
    "        min = self.df[columns].min()\n",
    "        Q1 = self.df[columns].quantile(0.25)\n",
    "        median = self.df[columns].quantile(0.5)\n",
    "        Q3 = self.df[columns].quantile(0.75)\n",
    "        max = self.df[columns].max()\n",
    "        IQR = Q3 - Q1\n",
    "        skew = self.calc_skew(columns)\n",
    "        outliers = self.count_outliers(Q1, Q3, IQR, columns)\n",
    "        cut_off = IQR * 1.5\n",
    "        lower, upper = Q1 - cut_off, Q3 + cut_off\n",
    "\n",
    "        new_columns = [\n",
    "            'Nome de Coluna', 'Min', 'Q1', 'Median', 'Q3', 'Max', 'IQR',\n",
    "            'Lower fence', 'Upper fence', 'Skew', 'Num_Outliers', 'Percent_Outliers'\n",
    "        ]\n",
    "        \n",
    "        data = zip(\n",
    "            [column for column in self.df[columns]],\n",
    "            min, Q1, median, Q3, max, IQR, lower, upper, skew, outliers, self.percentage(outliers)\n",
    "        )\n",
    "\n",
    "        new_df = pd.DataFrame(data = data, columns = new_columns)\n",
    "        new_df.set_index('Nome de Coluna', inplace = True)\n",
    "        return new_df.sort_values('Num_Outliers', ascending = False).transpose()\n",
    "      \n",
    "# Usage example:\n",
    "# to = TrataOutlier(df)\n",
    "# display(to.getOverview([\"Number of Vehical Involved\"]))"
   ]
  },
  {
   "cell_type": "code",
   "execution_count": 0,
   "metadata": {
    "application/vnd.databricks.v1+cell": {
     "cellMetadata": {
      "byteLimit": 2048000,
      "rowLimit": 10000
     },
     "inputWidgets": {},
     "nuid": "bf30e1ef-318c-4e5a-ba27-1f675d4ca0dd",
     "showTitle": false,
     "tableResultSettingsMap": {},
     "title": ""
    }
   },
   "outputs": [],
   "source": [
    "housing = fetch_california_housing()\n",
    "x = housing.data[:, 0:1]\n",
    "y = housing.target\n",
    "x_train, x_test, y_train, y_test = tts(\n",
    "    x,\n",
    "    y,\n",
    "    test_size=0.2,\n",
    "    random_state=42\n",
    ")\n",
    "model = LinearRegression()\n",
    "model.fit(x_train, y_train)\n",
    "y_pred = model.predict(x_test)\n",
    "print(f\"Coeficiente (slope): {model.coef_[0]:.2f}\")\n",
    "print(f\"Intercept: {model.intercept_:.2f}\")\n",
    "mse = mean_squared_error(y_test, y_pred)\n",
    "print(f\"Mean Squared Error: {mse:.2f}\")\n",
    "r2 = r2_score(y_test, y_pred)\n",
    "print(f\"Coeficiente de Determinação (R2): {r2:.2f}\")\n",
    "plt.scatter(x_train, y_train, color=\"blue\", label=\"Dados de Treino\")\n",
    "plt.plot(x_test, y_pred, color=\"red\", label=\"Modelo de Regressão Linear\")\n",
    "plt.xlabel(\"Número de Véiculos\")\n",
    "plt.ylabel(\"Preço\")\n",
    "plt.title(\"Teste\")\n",
    "plt.legend()\n",
    "plt.show()"
   ]
  },
  {
   "cell_type": "code",
   "execution_count": 0,
   "metadata": {
    "application/vnd.databricks.v1+cell": {
     "cellMetadata": {},
     "inputWidgets": {},
     "nuid": "a1621a95-4dc8-4ca3-ad3a-1f7589061565",
     "showTitle": false,
     "tableResultSettingsMap": {},
     "title": ""
    }
   },
   "outputs": [],
   "source": []
  }
 ],
 "metadata": {
  "application/vnd.databricks.v1+notebook": {
   "computePreferences": {
    "hardware": {
     "accelerator": null,
     "gpuPoolId": null,
     "memory": null
    }
   },
   "dashboards": [
    {
     "elements": [],
     "globalVars": {},
     "guid": "",
     "layoutOption": {
      "grid": true,
      "stack": true
     },
     "nuid": "e0ecd175-95b6-4564-a1f9-d74031532635",
     "origId": 4604884027582418,
     "title": "Untitled",
     "version": "DashboardViewV1",
     "width": 1024
    }
   ],
   "environmentMetadata": {
    "base_environment": "",
    "environment_version": "4"
   },
   "inputWidgetPreferences": null,
   "language": "python",
   "notebookMetadata": {
    "pythonIndentUnit": 4
   },
   "notebookName": "desafio_blackbird_teste_01",
   "widgets": {}
  },
  "language_info": {
   "name": "python"
  }
 },
 "nbformat": 4,
 "nbformat_minor": 0
}
