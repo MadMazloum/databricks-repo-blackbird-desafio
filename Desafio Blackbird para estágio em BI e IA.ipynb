{
 "cells": [
  {
   "cell_type": "code",
   "execution_count": 0,
   "metadata": {
    "application/vnd.databricks.v1+cell": {
     "cellMetadata": {
      "byteLimit": 2048000,
      "rowLimit": 10000
     },
     "collapsed": true,
     "inputWidgets": {},
     "nuid": "13116aa9-7f3a-4133-a475-a46b7f92e556",
     "showTitle": false,
     "tableResultSettingsMap": {},
     "title": ""
    }
   },
   "outputs": [],
   "source": [
    "%pip install xlrd>=2.0.1 \n",
    "%pip install openpyxl \n",
    "%restart_python "
   ]
  },
  {
   "cell_type": "markdown",
   "metadata": {
    "application/vnd.databricks.v1+cell": {
     "cellMetadata": {},
     "inputWidgets": {},
     "nuid": "4755201d-cdbd-439d-822b-f3dc7954a2c7",
     "showTitle": false,
     "tableResultSettingsMap": {},
     "title": ""
    }
   },
   "source": [
    "####Coleta e tratamento dos dados ↓"
   ]
  },
  {
   "cell_type": "code",
   "execution_count": 0,
   "metadata": {
    "application/vnd.databricks.v1+cell": {
     "cellMetadata": {
      "byteLimit": 2048000,
      "rowLimit": 10000
     },
     "inputWidgets": {},
     "nuid": "a576890b-b104-4cae-8108-8626d5c05c7a",
     "showTitle": false,
     "tableResultSettingsMap": {},
     "title": ""
    }
   },
   "outputs": [],
   "source": [
    "import pandas as pd, numpy as np, matplotlib.pyplot as plt, seaborn as sns\n",
    "\n",
    "from sklearn.model_selection import train_test_split\n",
    "from sklearn.linear_model import LinearRegression, LogisticRegression\n",
    "from sklearn.ensemble import RandomForestClassifier\n",
    "from sklearn.metrics import (\n",
    "    mean_squared_error, r2_score, accuracy_score,\n",
    "    precision_score, recall_score, f1_score, confusion_matrix\n",
    ")\n",
    "\n",
    "# Local do arquivo dentro do databricks\n",
    "file_path = \"/Workspace/Users/ahmad.jmazloum@gmail.com/Data__1_.xlsx\"\n",
    "\n",
    "# Variavel do arquivo\n",
    "df = pd.read_excel(file_path)\n",
    "\n",
    "# Visualização inicial\n",
    "print(\"Dimensão:\", df.shape)\n",
    "print(df.head())\n",
    "\n",
    "# Tratamento de colunas com texto para valores binários\n",
    "map_dict = {\"yes\":1, \"no\":0, \"sim\":1, \"não\":0, \"nao\":0}\n",
    "\n",
    "for col in df.columns:\n",
    "    if df[col].dtype == \"object\":\n",
    "        df[col] = df[col].str.lower().map(map_dict)\n",
    "\n",
    "# Corrigir a variável alvo (Injury: 1 = ferido, 2 = não ferido → 0)\n",
    "df[\"Injury\"] = df[\"Injury\"].replace({2:0})\n",
    "\n",
    "# Remover linhas nulas ou ausentes dentro da tabela\n",
    "df = df.dropna().reset_index(drop=True)\n",
    "\n",
    "# Conferir estatísticas gerais\n",
    "print(df.describe())\n",
    "print(\"\\nDistribuição de Injury:\\n\", df[\"Injury\"].value_counts())\n",
    "\n",
    "# Correlação entre variáveis (analisar se entre as variaveis existe algo em cumum)\n",
    "plt.figure(figsize=(10,6))\n",
    "sns.heatmap(df.corr(numeric_only=True), annot=True, cmap=\"YlGnBu\")\n",
    "plt.title(\"Correlação entre Variáveis\")\n",
    "plt.show()\n"
   ]
  },
  {
   "cell_type": "markdown",
   "metadata": {
    "application/vnd.databricks.v1+cell": {
     "cellMetadata": {},
     "inputWidgets": {},
     "nuid": "e037b834-565d-453d-89e4-1af7fea02b9e",
     "showTitle": false,
     "tableResultSettingsMap": {},
     "title": ""
    }
   },
   "source": [
    "#### Modelagem dos grafico ↓"
   ]
  },
  {
   "cell_type": "code",
   "execution_count": 0,
   "metadata": {
    "application/vnd.databricks.v1+cell": {
     "cellMetadata": {
      "byteLimit": 2048000,
      "rowLimit": 10000
     },
     "inputWidgets": {},
     "nuid": "ead36052-9fe0-4764-a2b0-280bd9319634",
     "showTitle": false,
     "tableResultSettingsMap": {},
     "title": ""
    }
   },
   "outputs": [],
   "source": [
    "# Definir variáveis independentes (X) e dependente (y)\n",
    "X = df.drop(columns=[\"Injury\"])\n",
    "y = df[\"Injury\"]\n",
    "\n",
    "# Divisão para inicio dos teste de treinamento\n",
    "X_train, X_test, y_train, y_test = train_test_split(\n",
    "    X, y, test_size=0.3, random_state=42, stratify=y\n",
    ")\n"
   ]
  },
  {
   "cell_type": "markdown",
   "metadata": {
    "application/vnd.databricks.v1+cell": {
     "cellMetadata": {},
     "inputWidgets": {},
     "nuid": "c0cffb1d-f3f7-4e7c-a722-c083edc15a67",
     "showTitle": false,
     "tableResultSettingsMap": {},
     "title": ""
    }
   },
   "source": [
    "#### Modelagem de regrassão linear ↓"
   ]
  },
  {
   "cell_type": "code",
   "execution_count": 0,
   "metadata": {
    "application/vnd.databricks.v1+cell": {
     "cellMetadata": {
      "byteLimit": 2048000,
      "rowLimit": 10000
     },
     "inputWidgets": {},
     "nuid": "bbfaeb3f-dc14-4e6e-b932-b8bf5ce12de0",
     "showTitle": false,
     "tableResultSettingsMap": {},
     "title": ""
    }
   },
   "outputs": [],
   "source": [
    "lr = LinearRegression()\n",
    "lr.fit(X_train, y_train)\n",
    "\n",
    "y_pred_lr = lr.predict(X_test)\n",
    "\n",
    "# Converter para classificação (0 ou 1) → dentro do range [0,1] é bastante utilizado em analise de dados\n",
    "y_pred_lr_class = (y_pred_lr >= 0.5).astype(int)\n",
    "\n",
    "# Métricas utilizadas opara o gravico\n",
    "mse = mean_squared_error(y_test, y_pred_lr)\n",
    "r2 = r2_score(y_test, y_pred_lr)\n",
    "acc_lr = accuracy_score(y_test, y_pred_lr_class)\n",
    "f1_lr = f1_score(y_test, y_pred_lr_class)\n",
    "print(\"🔹 Regressão Linear:\")\n",
    "print(f\"MSE: {mse:.4f} | R²: {r2:.4f}\")\n",
    "print(f\"Acurácia: {acc_lr:.4f} | F1: {f1_lr:.4f}\")"
   ]
  },
  {
   "cell_type": "markdown",
   "metadata": {
    "application/vnd.databricks.v1+cell": {
     "cellMetadata": {},
     "inputWidgets": {},
     "nuid": "b684a9b0-019d-44e2-b84c-a8df8c5cab4c",
     "showTitle": false,
     "tableResultSettingsMap": {},
     "title": ""
    }
   },
   "source": [
    "#### Aleatoridades ↓"
   ]
  },
  {
   "cell_type": "code",
   "execution_count": 0,
   "metadata": {
    "application/vnd.databricks.v1+cell": {
     "cellMetadata": {
      "byteLimit": 2048000,
      "rowLimit": 10000
     },
     "inputWidgets": {},
     "nuid": "b8b4e853-1c0c-4e9b-a660-7885e4cc8540",
     "showTitle": false,
     "tableResultSettingsMap": {},
     "title": ""
    }
   },
   "outputs": [],
   "source": [
    "rf = RandomForestClassifier(n_estimators=200, random_state=42)\n",
    "rf.fit(X_train, y_train)\n",
    "y_pred_rf = rf.predict(X_test)\n",
    "\n",
    "acc_rf = accuracy_score(y_test, y_pred_rf)\n",
    "prec_rf = precision_score(y_test, y_pred_rf)\n",
    "rec_rf = recall_score(y_test, y_pred_rf)\n",
    "f1_rf = f1_score(y_test, y_pred_rf)\n",
    "\n",
    "print(\"\\n🔹 Random Forest:\")\n",
    "print(f\"Acurácia: {acc_rf:.4f} | Precisão: {prec_rf:.4f} | Recall: {rec_rf:.4f} | F1: {f1_rf:.4f}\")\n"
   ]
  },
  {
   "cell_type": "markdown",
   "metadata": {
    "application/vnd.databricks.v1+cell": {
     "cellMetadata": {},
     "inputWidgets": {},
     "nuid": "af5c40fe-ad21-44a2-b3cb-0fe7f396a461",
     "showTitle": false,
     "tableResultSettingsMap": {},
     "title": ""
    }
   },
   "source": [
    "####Matriz de confusão - Random Forest ↓"
   ]
  },
  {
   "cell_type": "code",
   "execution_count": 0,
   "metadata": {
    "application/vnd.databricks.v1+cell": {
     "cellMetadata": {
      "byteLimit": 2048000,
      "rowLimit": 10000
     },
     "inputWidgets": {},
     "nuid": "087eb958-4c6e-41f7-b1c3-00b0539c4bb5",
     "showTitle": false,
     "tableResultSettingsMap": {},
     "title": ""
    }
   },
   "outputs": [],
   "source": [
    "cm = confusion_matrix(y_test, y_pred_rf)\n",
    "plt.figure(figsize=(4,3))\n",
    "sns.heatmap(cm, annot=True, fmt=\"d\", cmap=\"Blues\")\n",
    "plt.title(\"Matriz de Confusão - Random Forest\")\n",
    "plt.xlabel(\"Predito\")\n",
    "plt.ylabel(\"Real\")\n",
    "plt.show()\n",
    "\n",
    "# Importância das variáveis (mais importantes dentro do modelo)\n",
    "importances = pd.Series(rf.feature_importances_, index=X.columns).sort_values(ascending=True)\n",
    "plt.figure(figsize=(8,5))\n",
    "importances.plot(kind=\"barh\", color=\"teal\")\n",
    "plt.title(\"Importância das Variáveis - Random Forest\")\n",
    "plt.xlabel(\"Importância\")\n",
    "plt.show()\n"
   ]
  }
 ],
 "metadata": {
  "application/vnd.databricks.v1+notebook": {
   "computePreferences": null,
   "dashboards": [],
   "environmentMetadata": {
    "base_environment": "",
    "environment_version": "4"
   },
   "inputWidgetPreferences": null,
   "language": "python",
   "notebookMetadata": {
    "pythonIndentUnit": 4
   },
   "notebookName": "Desafio Blackbird para estágio em BI e IA",
   "widgets": {}
  },
  "language_info": {
   "name": "python"
  }
 },
 "nbformat": 4,
 "nbformat_minor": 0
}
