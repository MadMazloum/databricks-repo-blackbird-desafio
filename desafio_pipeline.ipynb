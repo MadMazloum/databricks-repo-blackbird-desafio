{
 "cells": [
  {
   "cell_type": "markdown",
   "metadata": {
    "application/vnd.databricks.v1+cell": {
     "cellMetadata": {
      "byteLimit": 2048000,
      "rowLimit": 10000
     },
     "inputWidgets": {},
     "nuid": "82482445-ab66-40f1-84d6-b01d81a8f99c",
     "showTitle": false,
     "tableResultSettingsMap": {},
     "title": ""
    }
   },
   "source": [
    "# Desafio: Prever ferimentos em acidente de carro"
   ]
  },
  {
   "cell_type": "code",
   "execution_count": 0,
   "metadata": {
    "application/vnd.databricks.v1+cell": {
     "cellMetadata": {
      "byteLimit": 2048000,
      "rowLimit": 10000
     },
     "collapsed": true,
     "inputWidgets": {},
     "nuid": "f10981e0-4881-4cfc-936c-d1f8e77eb77d",
     "showTitle": false,
     "tableResultSettingsMap": {},
     "title": ""
    }
   },
   "outputs": [],
   "source": [
    "%pip install xlrd>=2.0.1\n",
    "%pip install openpyxl\n",
    "%restart_python"
   ]
  },
  {
   "cell_type": "code",
   "execution_count": 0,
   "metadata": {
    "application/vnd.databricks.v1+cell": {
     "cellMetadata": {
      "byteLimit": 2048000,
      "rowLimit": 10000
     },
     "inputWidgets": {},
     "nuid": "30a5c0c2-6f1b-4912-b589-18a8b598ecd4",
     "showTitle": false,
     "tableResultSettingsMap": {},
     "title": ""
    }
   },
   "outputs": [],
   "source": [
    "\n",
    "import pandas as pd, numpy as np, matplotlib.pyplot as plt\n",
    "from sklearn.model_selection import train_test_split\n",
    "from sklearn.preprocessing import StandardScaler, OneHotEncoder\n",
    "from sklearn.compose import ColumnTransformer\n",
    "from sklearn.pipeline import Pipeline\n",
    "from sklearn.impute import SimpleImputer\n",
    "from sklearn.linear_model import LinearRegression, LogisticRegression\n",
    "from sklearn.ensemble import RandomForestClassifier\n",
    "from sklearn.metrics import accuracy_score, precision_score, recall_score, f1_score, roc_auc_score, confusion_matrix, RocCurveDisplay\n",
    "from pathlib import Path\n"
   ]
  },
  {
   "cell_type": "code",
   "execution_count": 0,
   "metadata": {
    "application/vnd.databricks.v1+cell": {
     "cellMetadata": {
      "byteLimit": 2048000,
      "rowLimit": 10000
     },
     "collapsed": true,
     "inputWidgets": {},
     "nuid": "80cdbdb1-0cd1-4000-b1cc-684c789f3ce7",
     "showTitle": false,
     "tableResultSettingsMap": {},
     "title": ""
    }
   },
   "outputs": [],
   "source": [
    "\n",
    "data_path = Path(\"/Workspace/Users/ahmad.jmazloum@gmail.com/Data__1_.xlsx\")\n",
    "df = pd.read_excel(data_path)\n",
    "df.columns = (df.columns.str.strip().str.replace(\"\\n\",\" \",regex=False).str.replace(r\"[^0-9a-zA-Z]+\",\"_\",regex=True).str.strip(\"_\"))\n",
    "df.head()\n"
   ]
  },
  {
   "cell_type": "code",
   "execution_count": 0,
   "metadata": {
    "application/vnd.databricks.v1+cell": {
     "cellMetadata": {
      "byteLimit": 2048000,
      "rowLimit": 10000
     },
     "collapsed": true,
     "inputWidgets": {},
     "nuid": "dedee76c-25bb-4389-adbc-702f71ee9492",
     "showTitle": false,
     "tableResultSettingsMap": {},
     "title": ""
    }
   },
   "outputs": [],
   "source": [
    "\n",
    "target_col = [c for c in df.columns if \"injur\" in c.lower()][0]\n",
    "y_raw = pd.to_numeric(df[target_col], errors=\"coerce\")\n",
    "vals = set(pd.Series(y_raw.dropna().unique()).tolist())\n",
    "if {1,2}.issubset(vals) or vals == {1,2}:\n",
    "    y = (y_raw == 1).astype(int)\n",
    "elif vals.issubset({0,1}):\n",
    "    y = y_raw.astype(int)\n",
    "else:\n",
    "    y = (y_raw > 0).astype(int)\n",
    "X = df.drop(columns=[target_col])\n",
    "X.head()\n"
   ]
  },
  {
   "cell_type": "code",
   "execution_count": 0,
   "metadata": {
    "application/vnd.databricks.v1+cell": {
     "cellMetadata": {
      "byteLimit": 2048000,
      "rowLimit": 10000
     },
     "collapsed": true,
     "inputWidgets": {},
     "nuid": "a4d8e2d0-c6b6-43f3-9928-62ee22b2901c",
     "showTitle": false,
     "tableResultSettingsMap": {},
     "title": ""
    }
   },
   "outputs": [],
   "source": [
    "\n",
    "expected_cols = [\"Rush_Hour\",\"Alcohol_Involved\",\"Work_Zone\",\"Align\",\"Weekday\",\n",
    "                 \"Accident_at_Intersection\",\"Accident_at_Roadway\",\"Speed_Limit\",\n",
    "                 \"Number_of_Vehical_Involved\",\"Number_of_Vehicle_Involved\",\"Weather\"]\n",
    "feature_cols = [c for c in expected_cols if c in X.columns]\n",
    "if \"Number_of_Vehical_Involved\" in feature_cols and \"Number_of_Vehicle_Involved\" in feature_cols:\n",
    "    X[\"Number_of_Vehicle_Involved\"] = X[\"Number_of_Vehicle_Involved\"].fillna(X[\"Number_of_Vehical_Involved\"])\n",
    "    feature_cols.remove(\"Number_of_Vehical_Involved\")\n",
    "if not feature_cols:\n",
    "    feature_cols = X.columns.tolist()\n",
    "X = X[feature_cols]\n",
    "num_features = X.select_dtypes(include=[np.number]).columns.tolist()\n",
    "cat_features = [c for c in X.columns if c not in num_features]\n",
    "num_features, cat_features\n"
   ]
  },
  {
   "cell_type": "code",
   "execution_count": 0,
   "metadata": {
    "application/vnd.databricks.v1+cell": {
     "cellMetadata": {
      "byteLimit": 2048000,
      "rowLimit": 10000
     },
     "collapsed": true,
     "inputWidgets": {},
     "nuid": "6fb5b001-9658-40d1-b3a1-f6db37382cdd",
     "showTitle": false,
     "tableResultSettingsMap": {},
     "title": ""
    }
   },
   "outputs": [],
   "source": [
    "\n",
    "numeric_pre = Pipeline([(\"imputer\", SimpleImputer(strategy=\"median\")), (\"scaler\", StandardScaler())])\n",
    "categorical_pre = Pipeline([(\"imputer\", SimpleImputer(strategy=\"most_frequent\")), (\"ohe\", OneHotEncoder(handle_unknown=\"ignore\"))])\n",
    "pre_glm = ColumnTransformer([(\"num\", numeric_pre, num_features), (\"cat\", categorical_pre, cat_features)])\n",
    "pre_tree = ColumnTransformer([(\"num\", SimpleImputer(strategy=\"median\"), num_features), (\"cat\", OneHotEncoder(handle_unknown=\"ignore\"), cat_features)])\n",
    "X_train, X_test, y_train, y_test = train_test_split(X, y, test_size=0.2, random_state=42, stratify=y)\n"
   ]
  },
  {
   "cell_type": "code",
   "execution_count": 0,
   "metadata": {
    "application/vnd.databricks.v1+cell": {
     "cellMetadata": {
      "byteLimit": 2048000,
      "rowLimit": 10000
     },
     "inputWidgets": {},
     "nuid": "1405c724-dff9-4b56-b548-9f09b84fd6e0",
     "showTitle": false,
     "tableResultSettingsMap": {},
     "title": ""
    }
   },
   "outputs": [],
   "source": [
    "\n",
    "linreg = Pipeline([(\"prep\", pre_glm), (\"model\", LinearRegression())]).fit(X_train, y_train)\n",
    "logreg = Pipeline([(\"prep\", pre_glm), (\"model\", LogisticRegression(max_iter=300, class_weight=\"balanced\"))]).fit(X_train, y_train)\n",
    "rf = Pipeline([(\"prep\", pre_tree), (\"model\", RandomForestClassifier(n_estimators=300, random_state=42, class_weight=\"balanced_subsample\"))]).fit(X_train, y_train)\n",
    "\n",
    "lin_score = linreg.predict(X_test); lin_pred = (lin_score >= 0.5).astype(int)\n",
    "log_proba = logreg.predict_proba(X_test)[:,1]; log_pred = (log_proba >= 0.5).astype(int)\n",
    "rf_proba  = rf.predict_proba(X_test)[:,1]; rf_pred  = (rf_proba  >= 0.5).astype(int)\n",
    "\n",
    "import pandas as pd\n",
    "def metrics_row(name, y_true, y_pred, y_score):\n",
    "    from sklearn.metrics import accuracy_score, precision_score, recall_score, f1_score, roc_auc_score\n",
    "    return dict(model=name,\n",
    "                accuracy=accuracy_score(y_true, y_pred),\n",
    "                precision=precision_score(y_true, y_pred, zero_division=0),\n",
    "                recall=recall_score(y_true, y_pred),\n",
    "                f1=f1_score(y_true, y_pred),\n",
    "                roc_auc=roc_auc_score(y_true, y_score))\n",
    "results_df = pd.DataFrame([\n",
    "    metrics_row(\"LinearRegression\", y_test, lin_pred, lin_score),\n",
    "    metrics_row(\"LogisticRegression\", y_test, log_pred, log_proba),\n",
    "    metrics_row(\"RandomForest\", y_test, rf_pred, rf_proba),\n",
    "])\n",
    "results_df\n"
   ]
  },
  {
   "cell_type": "code",
   "execution_count": 0,
   "metadata": {
    "application/vnd.databricks.v1+cell": {
     "cellMetadata": {
      "byteLimit": 2048000,
      "rowLimit": 10000
     },
     "inputWidgets": {},
     "nuid": "7ebacfd7-70a2-4ba1-8a89-816e273fc887",
     "showTitle": false,
     "tableResultSettingsMap": {},
     "title": ""
    }
   },
   "outputs": [],
   "source": [
    "\n",
    "def plot_conf(y_true, y_pred, title):\n",
    "    cm = confusion_matrix(y_true, y_pred); fig, ax = plt.subplots()\n",
    "    ax.imshow(cm); ax.set_title(title); ax.set_xlabel(\"Predito\"); ax.set_ylabel(\"Real\")\n",
    "    for (i,j),v in np.ndenumerate(cm): ax.text(j,i,str(v),ha=\"center\",va=\"center\")\n",
    "    plt.show()\n",
    "\n",
    "def plot_roc(y_true, y_score, title):\n",
    "    fig, ax = plt.subplots()\n",
    "    RocCurveDisplay.from_predictions(y_true, y_score, ax=ax); ax.set_title(title); plt.show()\n",
    "\n",
    "plot_conf(y_test, lin_pred, \"Matriz de confusão - Linear Regression\"); plot_roc(y_test, lin_score, \"ROC - Linear Regression\")\n",
    "plot_conf(y_test, log_pred, \"Matriz de confusão - Logistic Regression\"); plot_roc(y_test, log_proba, \"ROC - Logistic Regression\")\n",
    "plot_conf(y_test, rf_pred,  \"Matriz de confusão - Random Forest\");    plot_roc(y_test, rf_proba,  \"ROC - Random Forest\")\n"
   ]
  }
 ],
 "metadata": {
  "application/vnd.databricks.v1+notebook": {
   "computePreferences": null,
   "dashboards": [],
   "environmentMetadata": null,
   "inputWidgetPreferences": null,
   "language": "python",
   "notebookMetadata": {
    "pythonIndentUnit": 4
   },
   "notebookName": "desafio_pipeline",
   "widgets": {}
  },
  "language_info": {
   "name": "python"
  }
 },
 "nbformat": 4,
 "nbformat_minor": 0
}
